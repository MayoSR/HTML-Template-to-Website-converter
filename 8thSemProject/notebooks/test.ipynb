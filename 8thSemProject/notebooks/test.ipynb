{
 "cells": [
  {
   "cell_type": "code",
   "execution_count": 0,
   "metadata": {
    "colab": {
     "base_uri": "https://localhost:8080/",
     "height": 104
    },
    "colab_type": "code",
    "executionInfo": {
     "elapsed": 6082,
     "status": "ok",
     "timestamp": 1585401282783,
     "user": {
      "displayName": "Prerna Rao",
      "photoUrl": "https://lh3.googleusercontent.com/a-/AOh14GjxcU6z8AePldO2Ma37QFwtNaAWZYOiNSCoHpvuQA=s64",
      "userId": "00632173656952410788"
     },
     "user_tz": -330
    },
    "id": "X41YclEERzBr",
    "outputId": "562131e5-cd54-41cc-aa88-f2cdc025bb50"
   },
   "outputs": [
    {
     "name": "stdout",
     "output_type": "stream",
     "text": [
      "Cloning into 'SimpleHTR'...\n",
      "remote: Enumerating objects: 344, done.\u001b[K\n",
      "remote: Total 344 (delta 0), reused 0 (delta 0), pack-reused 344\u001b[K\n",
      "Receiving objects: 100% (344/344), 78.76 MiB | 54.38 MiB/s, done.\n",
      "Resolving deltas: 100% (185/185), done.\n"
     ]
    }
   ],
   "source": [
    "!git clone https://github.com/githubharald/SimpleHTR.git"
   ]
  },
  {
   "cell_type": "code",
   "execution_count": 15,
   "metadata": {
    "colab": {
     "base_uri": "https://localhost:8080/",
     "height": 35
    },
    "colab_type": "code",
    "executionInfo": {
     "elapsed": 1191,
     "status": "ok",
     "timestamp": 1585402304777,
     "user": {
      "displayName": "Prerna Rao",
      "photoUrl": "https://lh3.googleusercontent.com/a-/AOh14GjxcU6z8AePldO2Ma37QFwtNaAWZYOiNSCoHpvuQA=s64",
      "userId": "00632173656952410788"
     },
     "user_tz": -330
    },
    "id": "cV7VbqQDS1aM",
    "outputId": "d1ffb9ae-8bc1-4013-e6eb-82575b162215"
   },
   "outputs": [
    {
     "name": "stdout",
     "output_type": "stream",
     "text": [
      "/content/SimpleHTR/src\n"
     ]
    }
   ],
   "source": [
    "%cd src/"
   ]
  },
  {
   "cell_type": "code",
   "execution_count": 16,
   "metadata": {
    "colab": {
     "base_uri": "https://localhost:8080/",
     "height": 173
    },
    "colab_type": "code",
    "executionInfo": {
     "elapsed": 5512,
     "status": "ok",
     "timestamp": 1585402333208,
     "user": {
      "displayName": "Prerna Rao",
      "photoUrl": "https://lh3.googleusercontent.com/a-/AOh14GjxcU6z8AePldO2Ma37QFwtNaAWZYOiNSCoHpvuQA=s64",
      "userId": "00632173656952410788"
     },
     "user_tz": -330
    },
    "id": "WOa9JUeZV5gE",
    "outputId": "b674c4eb-8e8a-4d49-a806-1976f01ec97c"
   },
   "outputs": [
    {
     "name": "stdout",
     "output_type": "stream",
     "text": [
      "Validation character error rate of saved model: 10.624916%\n",
      "Traceback (most recent call last):\n",
      "  File \"main.py\", line 145, in <module>\n",
      "    main()\n",
      "  File \"main.py\", line 140, in main\n",
      "    model = Model(open(FilePaths.fnCharList).read(), decoderType, mustRestore=True, dump=args.dump)\n",
      "  File \"/content/SimpleHTR/src/Model.py\", line 33, in __init__\n",
      "    self.is_train = tf.placeholder(tf.bool, name='is_train')\n",
      "AttributeError: module 'tensorflow' has no attribute 'placeholder'\n"
     ]
    }
   ],
   "source": [
    "!python main.py"
   ]
  },
  {
   "cell_type": "code",
   "execution_count": 0,
   "metadata": {
    "colab": {},
    "colab_type": "code",
    "id": "lKHgTCKIWch4"
   },
   "outputs": [],
   "source": [
    "import tensorflow.compat.v1 as tf\n",
    "tf.disable_v2_behavior()"
   ]
  },
  {
   "cell_type": "code",
   "execution_count": 21,
   "metadata": {
    "colab": {
     "base_uri": "https://localhost:8080/",
     "height": 173
    },
    "colab_type": "code",
    "executionInfo": {
     "elapsed": 5381,
     "status": "ok",
     "timestamp": 1585403388529,
     "user": {
      "displayName": "Prerna Rao",
      "photoUrl": "https://lh3.googleusercontent.com/a-/AOh14GjxcU6z8AePldO2Ma37QFwtNaAWZYOiNSCoHpvuQA=s64",
      "userId": "00632173656952410788"
     },
     "user_tz": -330
    },
    "id": "eYafBhebWgB1",
    "outputId": "3ef4b914-69e7-4a6d-fee2-e348be704944"
   },
   "outputs": [
    {
     "name": "stdout",
     "output_type": "stream",
     "text": [
      "Validation character error rate of saved model: 10.624916%\n",
      "Traceback (most recent call last):\n",
      "  File \"main.py\", line 145, in <module>\n",
      "    main()\n",
      "  File \"main.py\", line 140, in main\n",
      "    model = Model(open(FilePaths.fnCharList).read(), decoderType, mustRestore=True, dump=args.dump)\n",
      "  File \"/content/SimpleHTR/src/Model.py\", line 33, in __init__\n",
      "    self.is_train = tf.placeholder(tf.bool, name='is_train')\n",
      "AttributeError: module 'tensorflow' has no attribute 'placeholder'\n"
     ]
    }
   ],
   "source": [
    "!python main.py"
   ]
  },
  {
   "cell_type": "code",
   "execution_count": 0,
   "metadata": {
    "colab": {},
    "colab_type": "code",
    "id": "hwGoaJjnZJ_n"
   },
   "outputs": [],
   "source": []
  }
 ],
 "metadata": {
  "colab": {
   "authorship_tag": "ABX9TyPQAxx+EssbgCc6Q95RZE9q",
   "name": "test.ipynb",
   "provenance": []
  },
  "kernelspec": {
   "display_name": "Python 3",
   "language": "python",
   "name": "python3"
  },
  "language_info": {
   "codemirror_mode": {
    "name": "ipython",
    "version": 3
   },
   "file_extension": ".py",
   "mimetype": "text/x-python",
   "name": "python",
   "nbconvert_exporter": "python",
   "pygments_lexer": "ipython3",
   "version": "3.7.4"
  }
 },
 "nbformat": 4,
 "nbformat_minor": 1
}
