{
 "cells": [
  {
   "cell_type": "code",
   "execution_count": 9,
   "metadata": {},
   "outputs": [],
   "source": [
    "from pathlib import Path\n",
    "import matplotlib.pyplot as plt\n",
    "import numpy as np\n",
    "from sklearn import svm, metrics, datasets\n",
    "from sklearn.utils import Bunch\n",
    "from sklearn.model_selection import GridSearchCV, train_test_split\n",
    "import skimage\n",
    "from skimage.io import imread\n",
    "from skimage.transform import resize\n",
    "import cv2\n",
    "from PIL import Image\n",
    "import os\n"
   ]
  },
  {
   "cell_type": "code",
   "execution_count": 10,
   "metadata": {},
   "outputs": [],
   "source": [
    "def load_image_files(container_path, dimension=(64, 64)):\n",
    "    \"\"\"\n",
    "    Load image files with categories as subfolder names \n",
    "    which performs like scikit-learn sample dataset\n",
    "    \n",
    "    Parameters\n",
    "    ----------\n",
    "    container_path : string or unicode\n",
    "        Path to the main folder holding one subfolder per category\n",
    "    dimension : tuple\n",
    "        size to which image are adjusted to\n",
    "        \n",
    "    Returns\n",
    "    -------\n",
    "    Bunch\n",
    "    \"\"\"\n",
    "    image_dir = Path(container_path)\n",
    "    folders = [directory for directory in image_dir.iterdir() if directory.is_dir()]\n",
    "    categories = [fo.name for fo in folders]\n",
    "\n",
    "    descr = \"A image classification dataset\"\n",
    "    images = []\n",
    "    flat_data = []\n",
    "    target = []\n",
    "    for i, direc in enumerate(folders):\n",
    "        for file in direc.iterdir():\n",
    "            img = skimage.io.imread(file)\n",
    "            img_resized = resize(img, dimension, anti_aliasing=True, mode='reflect')\n",
    "            flat_data.append(img_resized.flatten()) \n",
    "            images.append(img_resized)\n",
    "            target.append(i)\n",
    "    flat_data = np.array(flat_data)\n",
    "    target = np.array(target)\n",
    "    images = np.array(images)\n",
    "\n",
    "    return Bunch(data=flat_data,\n",
    "                 target=target,\n",
    "                 target_names=categories,\n",
    "                 images=images,\n",
    "                 DESCR=descr)"
   ]
  },
  {
   "cell_type": "code",
   "execution_count": 11,
   "metadata": {},
   "outputs": [],
   "source": [
    "image_dataset = load_image_files(\"\\\\Users\\\\mayan\\\\Desktop\\\\Test\\\\8thSemProject\\\\HTMLelements\")"
   ]
  },
  {
   "cell_type": "code",
   "execution_count": 12,
   "metadata": {},
   "outputs": [],
   "source": [
    "X_train, X_test, y_train, y_test = train_test_split(\n",
    "    image_dataset.data, image_dataset.target, test_size=0.3,random_state=109)"
   ]
  },
  {
   "cell_type": "code",
   "execution_count": 13,
   "metadata": {},
   "outputs": [
    {
     "data": {
      "text/plain": [
       "GridSearchCV(cv=None, error_score=nan,\n",
       "             estimator=SVC(C=1.0, break_ties=False, cache_size=200,\n",
       "                           class_weight=None, coef0=0.0,\n",
       "                           decision_function_shape='ovr', degree=3,\n",
       "                           gamma='scale', kernel='rbf', max_iter=-1,\n",
       "                           probability=False, random_state=None, shrinking=True,\n",
       "                           tol=0.001, verbose=False),\n",
       "             iid='deprecated', n_jobs=None,\n",
       "             param_grid=[{'C': [1, 10, 100, 1000], 'kernel': ['linear']},\n",
       "                         {'C': [1, 10, 100, 1000], 'gamma': [0.001, 0.0001],\n",
       "                          'kernel': ['rbf']}],\n",
       "             pre_dispatch='2*n_jobs', refit=True, return_train_score=False,\n",
       "             scoring=None, verbose=0)"
      ]
     },
     "execution_count": 13,
     "metadata": {},
     "output_type": "execute_result"
    }
   ],
   "source": [
    "param_grid = [\n",
    "  {'C': [1, 10, 100, 1000], 'kernel': ['linear']},\n",
    "  {'C': [1, 10, 100, 1000], 'gamma': [0.001, 0.0001], 'kernel': ['rbf']},\n",
    " ]\n",
    "svc = svm.SVC()\n",
    "clf = GridSearchCV(svc, param_grid)\n",
    "clf.fit(X_train, y_train)"
   ]
  },
  {
   "cell_type": "code",
   "execution_count": 14,
   "metadata": {},
   "outputs": [],
   "source": [
    "y_pred = clf.predict(X_test)"
   ]
  },
  {
   "cell_type": "code",
   "execution_count": 15,
   "metadata": {},
   "outputs": [
    {
     "name": "stdout",
     "output_type": "stream",
     "text": [
      "Classification report for - \n",
      "GridSearchCV(cv=None, error_score=nan,\n",
      "             estimator=SVC(C=1.0, break_ties=False, cache_size=200,\n",
      "                           class_weight=None, coef0=0.0,\n",
      "                           decision_function_shape='ovr', degree=3,\n",
      "                           gamma='scale', kernel='rbf', max_iter=-1,\n",
      "                           probability=False, random_state=None, shrinking=True,\n",
      "                           tol=0.001, verbose=False),\n",
      "             iid='deprecated', n_jobs=None,\n",
      "             param_grid=[{'C': [1, 10, 100, 1000], 'kernel': ['linear']},\n",
      "                         {'C': [1, 10, 100, 1000], 'gamma': [0.001, 0.0001],\n",
      "                          'kernel': ['rbf']}],\n",
      "             pre_dispatch='2*n_jobs', refit=True, return_train_score=False,\n",
      "             scoring=None, verbose=0):\n",
      "              precision    recall  f1-score   support\n",
      "\n",
      "           0       0.94      0.97      0.96       105\n",
      "           1       0.97      0.95      0.96       122\n",
      "\n",
      "    accuracy                           0.96       227\n",
      "   macro avg       0.96      0.96      0.96       227\n",
      "weighted avg       0.96      0.96      0.96       227\n",
      "\n",
      "\n"
     ]
    }
   ],
   "source": [
    "print(\"Classification report for - \\n{}:\\n{}\\n\".format(\n",
    "    clf, metrics.classification_report(y_test, y_pred)))"
   ]
  },
  {
   "cell_type": "code",
   "execution_count": 10,
   "metadata": {},
   "outputs": [
    {
     "name": "stdout",
     "output_type": "stream",
     "text": [
      "[[0.99607843 0.99607843 0.99607843 ... 0.99607843 0.99607843 0.99607843]\n",
      " [0.99607843 0.99607843 0.99607843 ... 0.99607843 0.99607843 0.99607843]\n",
      " [0.38553922 0.38578431 0.37377451 ... 0.04387255 0.04387255 0.04387255]\n",
      " ...\n",
      " [0.99607843 0.99607843 0.99607843 ... 0.99607843 0.99607843 0.99607843]\n",
      " [0.71398591 0.71006434 0.6904565  ... 0.15634191 0.3198223  0.6950674 ]\n",
      " [0.98823529 0.98823529 0.98823529 ... 0.99607843 0.99607843 0.99607843]]\n"
     ]
    }
   ],
   "source": [
    "print(X_test)"
   ]
  },
  {
   "cell_type": "code",
   "execution_count": 17,
   "metadata": {},
   "outputs": [],
   "source": [
    "\n",
    "def image_process(image):\n",
    "    \n",
    "    \n",
    "        print(image)\n",
    "        hsv_image = cv2.imread(image,1) # pretend its HSV\n",
    "        #noise_img = sp_noise(hsv_image,0.2)\n",
    "        rgbimg = cv2.cvtColor(hsv_image, cv2.COLOR_HSV2RGB)\n",
    "        image_gray = cv2.cvtColor(rgbimg, cv2.COLOR_BGR2GRAY)\n",
    "        _,threshold = cv2.threshold(image_gray,127, 255,0)\n",
    "        plt.imshow(image_gray, cmap='gray')\n",
    "    \n",
    "        contours, hierarchy = cv2.findContours(threshold, cv2.RETR_LIST, cv2.CHAIN_APPROX_SIMPLE)\n",
    "\n",
    "        left_arr = []\n",
    "        right_arr = []\n",
    "        top_arr = []\n",
    "        bottom_arr = []\n",
    "\n",
    "        for cnt in contours:\n",
    "            leftmost = tuple(cnt[cnt[:,:,0].argmin()][0])\n",
    "            rightmost = tuple(cnt[cnt[:,:,0].argmax()][0])\n",
    "            topmost = tuple(cnt[cnt[:,:,1].argmin()][0])\n",
    "            bottommost = tuple(cnt[cnt[:,:,1].argmax()][0])\n",
    "            left_arr.append(leftmost)\n",
    "            right_arr.append(rightmost)\n",
    "            top_arr.append(topmost)\n",
    "            bottom_arr.append(bottommost)\n",
    "            \n",
    "\n",
    "        left_arr.sort()\n",
    "        right_arr.sort(reverse=True)\n",
    "        top_arr.sort(key = lambda x: x[1])\n",
    "        bottom_arr.sort(reverse=True,key = lambda x: x[1])\n",
    "\n",
    "        left_arr.pop(0)\n",
    "        right_arr.pop(0)\n",
    "        top_arr.pop(0)\n",
    "        bottom_arr.pop(0)\n",
    "        \n",
    "        advanced_coords = (left_arr[0][0]-10,top_arr[0][1]-10,right_arr[0][0]+10,bottom_arr[0][1]+10)\n",
    "        im = Image.open(image)\n",
    "        im1 = im.crop(advanced_coords) \n",
    "        newsize = (200, 200) \n",
    "        im1 = im.resize(newsize)\n",
    "        os.remove(image)\n",
    "        im1.save(image)\n",
    "        \n"
   ]
  },
  {
   "cell_type": "code",
   "execution_count": 18,
   "metadata": {},
   "outputs": [
    {
     "name": "stdout",
     "output_type": "stream",
     "text": [
      "C:\\Users\\mayan\\Desktop\\Test\\8thSemProject\\samples\\0.jpg\n",
      "C:\\Users\\mayan\\Desktop\\Test\\8thSemProject\\samples\\1.jpg\n",
      "C:\\Users\\mayan\\Desktop\\Test\\8thSemProject\\samples\\2.jpg\n",
      "C:\\Users\\mayan\\Desktop\\Test\\8thSemProject\\samples\\3.jpg\n",
      "C:\\Users\\mayan\\Desktop\\Test\\8thSemProject\\samples\\4.jpg\n",
      "C:\\Users\\mayan\\Desktop\\Test\\8thSemProject\\samples\\5.jpg\n"
     ]
    },
    {
     "data": {
      "image/png": "[encoded data removed]",
      "text/plain": [
       "<Figure size 432x288 with 1 Axes>"
      ]
     },
     "metadata": {
      "needs_background": "light"
     },
     "output_type": "display_data"
    }
   ],
   "source": [
    "dimension = (64,64)\n",
    "samp_data=[]\n",
    "file_name= []\n",
    "mapper = {1:\"Input\",0:\"Image\"}\n",
    "for file in os.listdir(\"C:\\\\Users\\\\mayan\\\\Desktop\\\\Test\\\\8thSemProject\\\\samples\"):\n",
    "    image_process(\"C:\\\\Users\\\\mayan\\\\Desktop\\\\Test\\\\8thSemProject\\\\samples\\\\\"+file)\n",
    "    img = skimage.io.imread(\"C:\\\\Users\\\\mayan\\\\Desktop\\\\Test\\\\8thSemProject\\\\samples\\\\\"+file)\n",
    "    img_resized = resize(img, dimension, anti_aliasing=True, mode='reflect')\n",
    "    samp_data.append(img_resized.flatten())\n",
    "    file_name.append(file)\n",
    "\n"
   ]
  },
  {
   "cell_type": "code",
   "execution_count": null,
   "metadata": {},
   "outputs": [],
   "source": []
  },
  {
   "cell_type": "code",
   "execution_count": 19,
   "metadata": {},
   "outputs": [
    {
     "data": {
      "text/plain": [
       "0.5"
      ]
     },
     "execution_count": 19,
     "metadata": {},
     "output_type": "execute_result"
    }
   ],
   "source": [
    "list(clf.predict(samp_data)).count(1)/len(samp_data)"
   ]
  },
  {
   "cell_type": "code",
   "execution_count": 20,
   "metadata": {},
   "outputs": [
    {
     "data": {
      "text/plain": [
       "0.5"
      ]
     },
     "execution_count": 20,
     "metadata": {},
     "output_type": "execute_result"
    }
   ],
   "source": [
    "list(clf.predict(samp_data)).count(0)/len(samp_data)"
   ]
  },
  {
   "cell_type": "code",
   "execution_count": 21,
   "metadata": {},
   "outputs": [
    {
     "name": "stdout",
     "output_type": "stream",
     "text": [
      "0.jpg Image\n",
      "1.jpg Image\n",
      "2.jpg Image\n",
      "3.jpg Input\n",
      "4.jpg Input\n",
      "5.jpg Input\n"
     ]
    }
   ],
   "source": [
    "fitr = 0\n",
    "for i in list(clf.predict(samp_data)):\n",
    "    print(file_name[fitr],mapper[i])\n",
    "    fitr+=1"
   ]
  },
  {
   "cell_type": "code",
   "execution_count": 23,
   "metadata": {},
   "outputs": [],
   "source": [
    "import pickle\n",
    "# save the classifier\n",
    "with open('C:\\\\Users\\\\mayan\\\\Desktop\\\\Test\\\\8thSemProject\\\\models\\\\SVM.pkl', 'wb') as fid:\n",
    "    pickle.dump(clf, fid)    \n"
   ]
  },
  {
   "cell_type": "code",
   "execution_count": 1,
   "metadata": {},
   "outputs": [],
   "source": [
    "import pickle\n",
    "clf = None\n",
    "with open('C:\\\\Users\\\\mayan\\\\Desktop\\\\8thSemProject\\\\8thSemProject\\\\models\\\\SVM.pkl', 'rb') as fid:\n",
    "    clf = pickle.load(fid)   "
   ]
  },
  {
   "cell_type": "code",
   "execution_count": null,
   "metadata": {},
   "outputs": [],
   "source": []
  }
 ],
 "metadata": {
  "kernelspec": {
   "display_name": "Python 3",
   "language": "python",
   "name": "python3"
  },
  "language_info": {
   "codemirror_mode": {
    "name": "ipython",
    "version": 3
   },
   "file_extension": ".py",
   "mimetype": "text/x-python",
   "name": "python",
   "nbconvert_exporter": "python",
   "pygments_lexer": "ipython3",
   "version": "3.7.4"
  }
 },
 "nbformat": 4,
 "nbformat_minor": 2
}
